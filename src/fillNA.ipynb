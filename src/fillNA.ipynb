{
 "cells": [
  {
   "cell_type": "code",
   "execution_count": 1,
   "metadata": {
    "jupyter": {
     "source_hidden": true
    },
    "tags": []
   },
   "outputs": [],
   "source": [
    "# Import Libraries\n",
    "import numpy as np\n",
    "import rasterio\n",
    "import scipy\n",
    "from scipy import ndimage\n",
    "import os\n",
    "from rasterio.plot import show\n",
    "import matplotlib.pyplot as plt\n"
   ]
  },
  {
   "cell_type": "code",
   "execution_count": 2,
   "metadata": {},
   "outputs": [],
   "source": [
    "class fillNA:\n",
    "    def __init__(self, img):\n",
    "        self.img = img\n",
    "\n",
    "    def beforeFill(self):\n",
    "        src = rasterio.open(self.img)\n",
    "        ras = src.read(1)\n",
    "        show(ras)\n",
    "        src.close()\n",
    "\n",
    "    @staticmethod\n",
    "    def convolve_mapping(x):\n",
    "        if np.isnan(x[4]) and not np.isnan(np.delete(x, 4)).all():\n",
    "            return np.nanmedian(np.delete(x, 4))\n",
    "        else:\n",
    "            return x[4]\n",
    "\n",
    "    def afterFill(self):\n",
    "        img = rasterio.open(self.img)\n",
    "        ras = img.read(1)\n",
    "        tmp_img = ras.copy()\n",
    "        window_1 = ndimage.generic_filter(\n",
    "            tmp_img, function=self.convolve_mapping, footprint=np.ones((3, 3)), mode='nearest')\n",
    "        while True:\n",
    "            window_1 = ndimage.generic_filter(\n",
    "                window_1, function=self.convolve_mapping, footprint=np.ones((3, 3)), mode='nearest')\n",
    "            if ~np.any(np.isnan(window_1) == True):\n",
    "                break\n",
    "        return show(window_1)\n"
   ]
  },
  {
   "cell_type": "code",
   "execution_count": 3,
   "metadata": {},
   "outputs": [
    {
     "data": {
      "image/png": "[encoded data removed]",
      "text/plain": [
       "<Figure size 640x480 with 1 Axes>"
      ]
     },
     "metadata": {},
     "output_type": "display_data"
    },
    {
     "data": {
      "text/plain": [
       "<AxesSubplot: >"
      ]
     },
     "execution_count": 3,
     "metadata": {},
     "output_type": "execute_result"
    }
   ],
   "source": [
    "foo_arr = fillNA('E:/Workspace/Fill_NA/data/sample_tif.tif')\n",
    "foo_arr.fillArr()"
   ]
  }
 ],
 "metadata": {
  "kernelspec": {
   "display_name": "gis",
   "language": "python",
   "name": "python3"
  },
  "language_info": {
   "codemirror_mode": {
    "name": "ipython",
    "version": 3
   },
   "file_extension": ".py",
   "mimetype": "text/x-python",
   "name": "python",
   "nbconvert_exporter": "python",
   "pygments_lexer": "ipython3",
   "version": "3.8.13"
  },
  "vscode": {
   "interpreter": {
    "hash": "948fee5aab0d99d35e662fd34197410a1ed495babebbcb81a8ad6f912c37b7a4"
   }
  }
 },
 "nbformat": 4,
 "nbformat_minor": 4
}
