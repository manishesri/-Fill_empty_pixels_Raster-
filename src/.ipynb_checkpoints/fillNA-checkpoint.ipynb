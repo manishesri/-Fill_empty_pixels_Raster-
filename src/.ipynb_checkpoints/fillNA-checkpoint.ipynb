{
 "cells": [
  {
   "cell_type": "code",
   "execution_count": 12,
   "metadata": {
    "jupyter": {
     "source_hidden": true
    },
    "tags": []
   },
   "outputs": [],
   "source": [
    "import numpy as np\n",
    "import rasterio\n",
    "import scipy\n",
    "from scipy import ndimage\n",
    "import os\n",
    "from rasterio.plot import show\n",
    "import matplotlib.pyplot as plt"
   ]
  },
  {
   "cell_type": "code",
   "execution_count": 13,
   "metadata": {
    "jupyter": {
     "source_hidden": true
    },
    "tags": []
   },
   "outputs": [],
   "source": [
    "# This Fucntion will take fifth element and replace it with the Median Values\n",
    "def convolve_mapping(x):\n",
    "    if np.isnan(x[4]) and not np.isnan(np.delete(x, 4)).all():\n",
    "        return np.nanmedian(np.delete(x, 4))\n",
    "    else:\n",
    "        return x[4]"
   ]
  },
  {
   "cell_type": "code",
   "execution_count": 14,
   "metadata": {
    "jupyter": {
     "source_hidden": true
    },
    "tags": []
   },
   "outputs": [],
   "source": [
    "def fillNA(img,file_name):\n",
    "    img  = rasterio.open(img)\n",
    "    profile = img.profile\n",
    "    ras = img.read(1)\n",
    "    tmp_img = ras.copy()\n",
    "    window_1 = ndimage.generic_filter(tmp_img,function=convolve_mapping, footprint=np.ones((3,3)), mode = 'nearest' )\n",
    "    while True:\n",
    "        window_1 = ndimage.generic_filter(window_1,function=convolve_mapping, footprint=np.ones((3,3)), mode='nearest')\n",
    "        if ~np.any(np.isnan(window_1) == True):\n",
    "            break\n",
    "    with rasterio.open(f'{file_name}.tif', 'w', **profile) as dst:\n",
    "        dst.write(window_1.astype(rasterio.uint8), 1)"
   ]
  },
  {
   "cell_type": "code",
   "execution_count": 22,
   "metadata": {},
   "outputs": [],
   "source": [
    "class fillNA:\n",
    "    \n",
    "    def __init__(self,img):\n",
    "        self.img = img\n",
    "    \n",
    "    def convolveMapping(x):\n",
    "        if np.isnan(x[4]) and not np.isnan(np.delete(x, 4)).all():\n",
    "            return np.nanmedian(np.delete(x, 4))\n",
    "        else:\n",
    "            return x[4]\n",
    "   \n",
    "    def beforeFill(self):\n",
    "        src = rasterio.open(self.img)\n",
    "        ras = src.read(1)\n",
    "        show(ras)\n",
    "        src.close()\n",
    "    \n",
    "    def fillArr(self):\n",
    "        img  = rasterio.open(self.img)\n",
    "        ras = img.read(1)\n",
    "        tmp_img = ras.copy()\n",
    "        window_1 = ndimage.generic_filter(tmp_img,function=convolve_mapping, footprint=np.ones((3,3)), mode = 'nearest' )\n",
    "        while True:\n",
    "            window_1 = ndimage.generic_filter(window_1,function=convolve_mapping, footprint=np.ones((3,3)), mode='nearest')\n",
    "            if ~np.any(np.isnan(window_1) == True):\n",
    "                break\n",
    "        return show(window_1)\n",
    "    \n"
   ]
  },
  {
   "cell_type": "code",
   "execution_count": 25,
   "metadata": {},
   "outputs": [
    {
     "data": {
      "image/png": "[encoded data removed]",
      "text/plain": [
       "<Figure size 640x480 with 1 Axes>"
      ]
     },
     "metadata": {},
     "output_type": "display_data"
    }
   ],
   "source": [
    "foo_arr = fillNA('E:/Satyukt/new_farms/28934/tif/28934_20220531_pH.tif')\n",
    "foo_arr.fillArr()\n",
    "foo_arr.beforeFill()"
   ]
  },
  {
   "cell_type": "code",
   "execution_count": 11,
   "metadata": {
    "jupyter": {
     "source_hidden": true
    },
    "tags": []
   },
   "outputs": [
    {
     "data": {
      "image/png": "[encoded data removed]",
      "text/plain": [
       "<Figure size 640x480 with 1 Axes>"
      ]
     },
     "metadata": {},
     "output_type": "display_data"
    },
    {
     "data": {
      "text/plain": [
       "<AxesSubplot: >"
      ]
     },
     "execution_count": 11,
     "metadata": {},
     "output_type": "execute_result"
    }
   ],
   "source": [
    "import numpy as np\n",
    "import rasterio\n",
    "import scipy\n",
    "from scipy import ndimage\n",
    "from rasterio.plot import show\n",
    "import matplotlib.pyplot as plt\n",
    "\n",
    "# This Fucntion will take fifth element and replace it with the Median Values\n",
    "def convolve_mapping(x):\n",
    "    if np.isnan(x[4]) and not np.isnan(np.delete(x, 4)).all():\n",
    "        return np.nanmedian(np.delete(x, 4))\n",
    "    else:\n",
    "        return x[4]\n",
    "\n",
    "def fillNA(img):\n",
    "    img  = rasterio.open(img)\n",
    "    ras = img.read(1)\n",
    "    tmp_img = ras.copy()\n",
    "    window_1 = ndimage.generic_filter(tmp_img,function=convolve_mapping, footprint=np.ones((3,3)), mode = 'nearest' )\n",
    "    while True:\n",
    "        window_1 = ndimage.generic_filter(window_1,function=convolve_mapping, footprint=np.ones((3,3)), mode='nearest')\n",
    "        if ~np.any(np.isnan(window_1) == True):\n",
    "            break\n",
    "    return show(window_1)\n",
    "\n",
    "\n",
    "fillNA('E:/Satyukt/new_farms/28934/tif/28934_20220531_pH.tif')"
   ]
  },
  {
   "cell_type": "code",
   "execution_count": null,
   "metadata": {},
   "outputs": [],
   "source": []
  }
 ],
 "metadata": {
  "interpreter": {
   "hash": "db94bdea6eab954f04376d93b6474fc21ea7a5727fe31ddce3c7db26920dbefc"
  },
  "kernelspec": {
   "display_name": "Python 3 (ipykernel)",
   "language": "python",
   "name": "python3"
  },
  "language_info": {
   "codemirror_mode": {
    "name": "ipython",
    "version": 3
   },
   "file_extension": ".py",
   "mimetype": "text/x-python",
   "name": "python",
   "nbconvert_exporter": "python",
   "pygments_lexer": "ipython3",
   "version": "3.8.13"
  }
 },
 "nbformat": 4,
 "nbformat_minor": 4
}
